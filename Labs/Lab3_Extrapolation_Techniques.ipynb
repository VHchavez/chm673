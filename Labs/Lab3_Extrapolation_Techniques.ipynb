{
 "cells": [
  {
   "cell_type": "markdown",
   "metadata": {},
   "source": [
    "## Lab 3. Extrapolation techniques for accurate thermochemistry"
   ]
  },
  {
   "cell_type": "markdown",
   "metadata": {},
   "source": [
    "\n",
    "\n",
    "In this lab you will:\n",
    "\n",
    "## Part A\n",
    "\n",
    "- Calculate the bond dissociation energy (BDE) in the $F_2$ molecule with a large basis set and accurate correlated method (CCSD(T))\n",
    "\n",
    "- Perform basis set extrapolation using an exponential or power series extrapolation to accunt for finite basis set effects (intrinsec basis set insufficientcy (IBSI)). \n",
    "\n",
    "- How to use the correlation energy additivity scheme.\n",
    "\n",
    "## Part B\n",
    "\n",
    "- When trying to compute the interaction energy between dimer complexes, each monomer can technically \"borrow\" (Or in Prof. David Sherrill's words, \"steal\") the basis functions from the other monomer. This causes an artificial stabilization of the dimer complex, and hence interaction energies are overestimated in most cases. In order to circumvent this, you will:\n",
    "\n",
    "- Compute the energy of the monomers in the dimer basis. In this extra step, the first monomer is simulated in the presence of \"ghost\" atoms of the second monomer (basis functions exist, but electrons are absent), and same for the second monomer. This is called the \"Counterpoise\" correction formulated by Boys and Bernardi. Psi4 computes the process with a keyword bsse_type='cp'. \n"
   ]
  },
  {
   "cell_type": "markdown",
   "metadata": {},
   "source": [
    "---"
   ]
  },
  {
   "cell_type": "code",
   "execution_count": 1,
   "metadata": {},
   "outputs": [],
   "source": [
    "import psi4\n",
    "import numpy as np\n",
    "import matplotlib.pyplot as plt"
   ]
  },
  {
   "cell_type": "markdown",
   "metadata": {},
   "source": [
    "## Part A | Lab procedure:"
   ]
  },
  {
   "cell_type": "markdown",
   "metadata": {},
   "source": [
    "### **1.** \n",
    "Optimize geometry of $F_2$ molecule at the *MP2/cc-pvdz* level and calculate the zero-point vibrational energy (ZPE). Write down the equilibrium geometry and ZPE in kcal/mol. "
   ]
  },
  {
   "cell_type": "code",
   "execution_count": 47,
   "metadata": {},
   "outputs": [],
   "source": [
    "#RESPONSE 1/5\n",
    "\n",
    "distances = np.linspace(1.0,3.0,30)\n",
    "\n",
    "\n",
    "F2 = \"\"\"\n",
    "F 0.0 0.0 0.0 \n",
    "F 0.0 0.0 **R**\n",
    "\n",
    "units angstrom\n",
    "symmetry c1\n",
    "\"\"\"\n",
    "\n",
    "MP2 = []\n",
    "\n",
    "psi4.core.clean()\n",
    "psi4.set_options({'reference' : 'uhf'})\n",
    "\n",
    "for r in distances:\n",
    "    mol = psi4.geometry(F2.replace(\"**R**\", str(r)))\n",
    "    energy = psi4.energy(\"MP2/cc-pvdz\", molecule=mol)\n",
    "    MP2.append(energy)"
   ]
  },
  {
   "cell_type": "code",
   "execution_count": 48,
   "metadata": {
    "scrolled": false
   },
   "outputs": [
    {
     "data": {
      "image/png": "[encoded data removed]",
      "text/plain": [
       "<Figure size 432x288 with 1 Axes>"
      ]
     },
     "metadata": {
      "needs_background": "light"
     },
     "output_type": "display_data"
    },
    {
     "name": "stdout",
     "output_type": "stream",
     "text": [
      "The ground state geometry is at a separation of 1.41 angstroms\n",
      "The total energy is -199.08 hartrees\n",
      "The total energy is -124926.71 kcal/mol\n"
     ]
    }
   ],
   "source": [
    "#RESPONSE 2/5\n",
    "\n",
    "plt.plot(distances, MP2)\n",
    "plt.xlabel(\"R\")\n",
    "plt.ylabel(\"Energy\")\n",
    "plt.title(\"Potential Energy Scan for $F_2$ Molecule\")\n",
    "plt.show()\n",
    "\n",
    "print(f\"The ground state geometry is at a separation of {min(zip(MP2,distances))[1]:.2f} angstroms\")\n",
    "print(f\"The total energy is {min(zip(MP2,distances))[0]:.2f} hartrees\")\n",
    "print(f\"The total energy is {(min(zip(MP2,distances))[0] * 627.509):.2f} kcal/mol\")"
   ]
  },
  {
   "cell_type": "code",
   "execution_count": 71,
   "metadata": {},
   "outputs": [
    {
     "name": "stdout",
     "output_type": "stream",
     "text": [
      "Warning: used thermodynamics relations inappropriate for low-frequency modes: ['226.7780' '226.7780']\n"
     ]
    }
   ],
   "source": [
    "#RESPONSE 3/5\n",
    "\n",
    "psi4.set_options({\"reference\":\"rhf\"})\n",
    "\n",
    "\n",
    "gnd_f2 = psi4.geometry(\"\"\"\n",
    "0 1\n",
    "F 0.0 0.0 0.0\n",
    "F 0.0 0.0 1.41\n",
    "symmetry c1\n",
    "units angstrom\n",
    "\"\"\")\n",
    "\n",
    "#MP2 is currentl not supported. Let us try just HF\n",
    "f_energ, f_wfn = psi4.frequencies('HF/cc-pvdz', molecule=gnd_f2, return_wfn=True)"
   ]
  },
  {
   "cell_type": "markdown",
   "metadata": {},
   "source": [
    "#### The frequencies can be obtained from the wavefunction object of the frequencies. \n",
    "Under the hood blobs obtains it but the in order to get them into a numpy array we just require to set:\n",
    "\n",
    "```\n",
    "frequencies = f_wfn.frequency_analysis[\"omega\"][2]\n",
    "```\n",
    "\n",
    "where f_wfn is the wavefunctions that you obtain from the frequency calculation. "
   ]
  },
  {
   "cell_type": "markdown",
   "metadata": {},
   "source": [
    "We know that we need to add the energies associated to these resonances. Of course we add the ones that are non-zero. Remember though, that the energies of the resonances are in $cm^{-1}$. Thus, remember that: $$349.75 cm^{-1} = 1 kcal/mol$$ "
   ]
  },
  {
   "cell_type": "code",
   "execution_count": 131,
   "metadata": {},
   "outputs": [
    {
     "name": "stdout",
     "output_type": "stream",
     "text": [
      "ZPE: 2.049 kcal/mol\n",
      "The uncorrected energy in hartrees is -198.686 in hartrees\n",
      "The corrected energy in hartrees is -198.682 in hartrees\n"
     ]
    }
   ],
   "source": [
    "#RESPONSE 4/5\n",
    "frequencies = f_wfn.frequency_analysis[\"omega\"][2]\n",
    "\n",
    "#Let us isolate the energies that are larger than zero. \n",
    "frequencies = [freq for freq in frequencies if freq > 0.1]\n",
    "\n",
    "#Obtain the ZPE and add it to the total energy\n",
    "ZPE = (sum(frequencies) / 349.75) / 2.0\n",
    "\n",
    "print(f\"ZPE: {ZPE.real:.3f} kcal/mol\")\n",
    "\n",
    "print(f\"The uncorrected energy in hartrees is {(f_energ).real:.3f} in hartrees\")\n",
    "print(f\"The corrected energy in hartrees is {(f_energ + ZPE/627.509).real:.3f} in hartrees\")"
   ]
  },
  {
   "cell_type": "code",
   "execution_count": 130,
   "metadata": {
    "scrolled": true
   },
   "outputs": [
    {
     "name": "stdout",
     "output_type": "stream",
     "text": [
      "ZPE: 1.396 kcal/mol\n",
      "The uncorrected energy in hartrees is -198.686 in hartrees\n",
      "The corrected energy in hartrees is -198.684 in hartrees\n"
     ]
    }
   ],
   "source": [
    "### FREQUENCIES FROM MP2\n",
    "frequencies_mp2 = np.array(([0.+6.77047915e-06j, 0. ,0.,0.,976.1895723, 0.]))\n",
    "frequencies_mp2 = [freq for freq in frequencies_mp2 if freq > 0.1]\n",
    "\n",
    "ZPE = (sum(frequencies_mp2) / 349.75) / 2.\n",
    "\n",
    "print(f\"ZPE: {ZPE.real:.3f} kcal/mol\")\n",
    "\n",
    "print(f\"The uncorrected energy in hartrees is {(f_energ).real:.3f} in hartrees\")\n",
    "print(f\"The corrected energy in hartrees is {(f_energ + ZPE/627.509).real:.3f} in hartrees\")\n",
    "\n"
   ]
  },
  {
   "cell_type": "markdown",
   "metadata": {},
   "source": [
    "---"
   ]
  },
  {
   "cell_type": "markdown",
   "metadata": {},
   "source": [
    "### **2.** \n",
    "Using the found optimal geometry of $F_2$ molecule, calculate the HF, MP2 and CCSD(T) (coupled cluster with single and double excitations and perturbateive triple correctionsmethod) energies ni a series of the cc-pvdz, cc-pvtz and cc-pvqz bases. Write down all these energies. Write down the number of basis function in each basis. "
   ]
  },
  {
   "cell_type": "markdown",
   "metadata": {},
   "source": [
    "#### Hint: The HF and MP2 energies will be printed in the CCSD(T) output file calculations as wee. So that you do not need to separate the calculations. On the other hand you may use a loop to get the energies and avoid having to go through the output file\n",
    "\n",
    "#### Hint: You can quickly have access to the number of basis functions with\"\n",
    "```\n",
    "wfn.basisset().nbf()\n",
    "```\n",
    "\n",
    "#### Hint: If you create a dictionary with keys as the basis, and then each of the keys contains a dictonary with the basis, you can fill in in a double loop and then display it nicely using pandas. \n",
    "\n",
    "```\n",
    "energies = {\"cc-pvdz\":{\"HF\":, \"MP2\":, \"CCSD(T)\"}, ...}\n",
    "```"
   ]
  },
  {
   "cell_type": "code",
   "execution_count": 148,
   "metadata": {},
   "outputs": [],
   "source": [
    "#RESPONSE 1/3\n",
    "\n",
    "basis = ['cc-pvdz', 'cc-pvtz', 'cc-pvqz']\n",
    "method = ['HF', 'MP2', 'CCSD(T)']\n",
    "mol_energies = {'cc-pvdz': {'HF':0.0, 'MP2':0.0, 'CCSD(T)':0.0, \"basis\":0.0},\n",
    "            'cc-pvtz': {'HF':0.0, 'MP2':0.0, 'CCSD(T)':0.0, \"basis\":0.0},\n",
    "            'cc-pvqz': {'HF':0.0, 'MP2':0.0, 'CCSD(T)':0.0, \"basis\":0.0}}\n",
    "\n",
    "for b in basis:\n",
    "    for m in method:\n",
    "        energy, wfn = psi4.energy(f\"{m}/{b}\", molecule=gnd_f2, return_wfn=True)\n",
    "        mol_energies[b][m] = energy\n",
    "        mol_energies[b][\"basis\"] = wfn.basisset().nbf()"
   ]
  },
  {
   "cell_type": "code",
   "execution_count": 156,
   "metadata": {},
   "outputs": [
    {
     "data": {
      "text/html": [
       "<div>\n",
       "<style scoped>\n",
       "    .dataframe tbody tr th:only-of-type {\n",
       "        vertical-align: middle;\n",
       "    }\n",
       "\n",
       "    .dataframe tbody tr th {\n",
       "        vertical-align: top;\n",
       "    }\n",
       "\n",
       "    .dataframe thead th {\n",
       "        text-align: right;\n",
       "    }\n",
       "</style>\n",
       "<table border=\"1\" class=\"dataframe\">\n",
       "  <thead>\n",
       "    <tr style=\"text-align: right;\">\n",
       "      <th></th>\n",
       "      <th>cc-pvdz</th>\n",
       "      <th>cc-pvtz</th>\n",
       "      <th>cc-pvqz</th>\n",
       "    </tr>\n",
       "  </thead>\n",
       "  <tbody>\n",
       "    <tr>\n",
       "      <th>CCSD(T)</th>\n",
       "      <td>-199.101016</td>\n",
       "      <td>-199.320398</td>\n",
       "      <td>-199.421927</td>\n",
       "    </tr>\n",
       "    <tr>\n",
       "      <th>HF</th>\n",
       "      <td>-198.685732</td>\n",
       "      <td>-198.752236</td>\n",
       "      <td>-198.768517</td>\n",
       "    </tr>\n",
       "    <tr>\n",
       "      <th>MP2</th>\n",
       "      <td>-199.083476</td>\n",
       "      <td>-199.299175</td>\n",
       "      <td>-199.399696</td>\n",
       "    </tr>\n",
       "    <tr>\n",
       "      <th>basis</th>\n",
       "      <td>28.000000</td>\n",
       "      <td>60.000000</td>\n",
       "      <td>110.000000</td>\n",
       "    </tr>\n",
       "  </tbody>\n",
       "</table>\n",
       "</div>"
      ],
      "text/plain": [
       "            cc-pvdz     cc-pvtz     cc-pvqz\n",
       "CCSD(T) -199.101016 -199.320398 -199.421927\n",
       "HF      -198.685732 -198.752236 -198.768517\n",
       "MP2     -199.083476 -199.299175 -199.399696\n",
       "basis     28.000000   60.000000  110.000000"
      ]
     },
     "execution_count": 156,
     "metadata": {},
     "output_type": "execute_result"
    }
   ],
   "source": [
    "#RESPONSE 2/3\n",
    "import pandas as pd\n",
    "df_mol = pd.DataFrame(mol_energies)\n",
    "df_mol "
   ]
  },
  {
   "cell_type": "markdown",
   "metadata": {},
   "source": [
    "### **3.** \n",
    "Using the found optimal geometry of $F_2$ molecule, calculate the HF, MP2 and CCSD(T) (coupled cluster with single and double excitations and perturbateive triple correctionsmethod) energies ni a series of the cc-pvdz, cc-pvtz and cc-pvqz bases. Write down all these energies. Write down the number of basis function in each basis. "
   ]
  },
  {
   "cell_type": "code",
   "execution_count": 155,
   "metadata": {},
   "outputs": [],
   "source": [
    "#RESPONSE 1/2\n",
    "f = psi4.geometry(\"\"\"\n",
    "0 2\n",
    "F 0.0 0.0 0.0\n",
    "symmetry c1\n",
    "units angstrom\n",
    "\"\"\")\n",
    "\n",
    "f_energies = {'cc-pvdz': {'HF':0.0, 'MP2':0.0, 'CCSD(T)':0.0, \"basis\":0.0},\n",
    "            'cc-pvtz': {'HF':0.0, 'MP2':0.0, 'CCSD(T)':0.0, \"basis\":0.0},\n",
    "            'cc-pvqz': {'HF':0.0, 'MP2':0.0, 'CCSD(T)':0.0, \"basis\":0.0}}\n",
    "\n",
    "psi4.set_options({\"reference\":\"uhf\"})\n",
    "\n",
    "for b in basis:\n",
    "    for m in method:\n",
    "        energy, wfn = psi4.energy(f\"{m}/{b}\", molecule=f, return_wfn=True)\n",
    "        f_energies[b][m] = energy\n",
    "        f_energies[b][\"basis\"] = wfn.basisset().nbf()"
   ]
  },
  {
   "cell_type": "code",
   "execution_count": 159,
   "metadata": {
    "scrolled": true
   },
   "outputs": [
    {
     "data": {
      "text/html": [
       "<div>\n",
       "<style scoped>\n",
       "    .dataframe tbody tr th:only-of-type {\n",
       "        vertical-align: middle;\n",
       "    }\n",
       "\n",
       "    .dataframe tbody tr th {\n",
       "        vertical-align: top;\n",
       "    }\n",
       "\n",
       "    .dataframe thead th {\n",
       "        text-align: right;\n",
       "    }\n",
       "</style>\n",
       "<table border=\"1\" class=\"dataframe\">\n",
       "  <thead>\n",
       "    <tr style=\"text-align: right;\">\n",
       "      <th></th>\n",
       "      <th>cc-pvdz</th>\n",
       "      <th>cc-pvtz</th>\n",
       "      <th>cc-pvqz</th>\n",
       "    </tr>\n",
       "  </thead>\n",
       "  <tbody>\n",
       "    <tr>\n",
       "      <th>CCSD(T)</th>\n",
       "      <td>-99.529312</td>\n",
       "      <td>-99.632143</td>\n",
       "      <td>-99.681564</td>\n",
       "    </tr>\n",
       "    <tr>\n",
       "      <th>HF</th>\n",
       "      <td>-99.375250</td>\n",
       "      <td>-99.405519</td>\n",
       "      <td>-99.413768</td>\n",
       "    </tr>\n",
       "    <tr>\n",
       "      <th>MP2</th>\n",
       "      <td>-99.517758</td>\n",
       "      <td>-99.617315</td>\n",
       "      <td>-99.665927</td>\n",
       "    </tr>\n",
       "    <tr>\n",
       "      <th>basis</th>\n",
       "      <td>14.000000</td>\n",
       "      <td>30.000000</td>\n",
       "      <td>55.000000</td>\n",
       "    </tr>\n",
       "  </tbody>\n",
       "</table>\n",
       "</div>"
      ],
      "text/plain": [
       "           cc-pvdz    cc-pvtz    cc-pvqz\n",
       "CCSD(T) -99.529312 -99.632143 -99.681564\n",
       "HF      -99.375250 -99.405519 -99.413768\n",
       "MP2     -99.517758 -99.617315 -99.665927\n",
       "basis    14.000000  30.000000  55.000000"
      ]
     },
     "execution_count": 159,
     "metadata": {},
     "output_type": "execute_result"
    }
   ],
   "source": [
    "#RESPONSE 2/2\n",
    "df_e = pd.DataFrame(f_energies)\n",
    "df_e"
   ]
  },
  {
   "cell_type": "markdown",
   "metadata": {},
   "source": [
    "---"
   ]
  },
  {
   "cell_type": "markdown",
   "metadata": {},
   "source": [
    "## Part A | Lab Report:\n"
   ]
  },
  {
   "cell_type": "markdown",
   "metadata": {},
   "source": [
    "### **1.** \n",
    "Estimate the basis set limits of the HF energies(i.e., complete basis set (CBS) HF energies) for $F_2$ and F by using the following formula:\n",
    "\n",
    "$$ E^{HF}_{x} = E^{HF}_{CBS} + B e^{-Ax}$$\n",
    "\n",
    "Where:  \n",
    "**A**, **B** -> Constants to be determined.    \n",
    "**E_x** is the HF energy in cc-pv$\\mathbf{x}$z basis, specifically it corresponds to the highest angular momentum included in the basis set. \n",
    "And **E_{CBS}** is the sought-for energy in the complete basis set. \n",
    "\n",
    "The extrapolation scheme requires 3 basis; use the 2,3 and 4 basis to obtain the CBS values (i.e., X=2,3,4) \n",
    "#### Hint: Think of building a system of equations."
   ]
  },
  {
   "cell_type": "markdown",
   "metadata": {},
   "source": [
    "#### Hint the library scipy has a module that can be accessed as \n",
    "\n",
    "```\n",
    "from scipy.optimize import fsolve\n",
    "``` \n",
    "\n",
    "It can be used to find the solution of non-linear equations. Here is an example for the system:\n",
    "\n",
    "$$ x^2 = -xy $$\n",
    "$$ x^3 = -2z^2$$\n",
    "$$ y^4 = 0$$\n",
    "\n",
    "```\n",
    "def equations(var):\n",
    "    x,y,z = var\n",
    "    \n",
    "    f1 = x*2 + xy\n",
    "    f2 = x**3 + 2z**2\n",
    "    f3 = y**4\n",
    "    \n",
    "    return (f1,f2,f3)\n",
    "    \n",
    "x,y,z = fsolve(equations,[x_0, y_0, z_0])\n",
    "\n",
    "#Where [x_0, y_0, z_0] are the initial guesses for each of the unknowns. For a and b you can try values close to 1, and for E_(cbs) the HF energy. \n",
    "```\n",
    "\n"
   ]
  },
  {
   "cell_type": "code",
   "execution_count": 185,
   "metadata": {},
   "outputs": [],
   "source": [
    "#RESPONSE 1/3"
   ]
  },
  {
   "cell_type": "markdown",
   "metadata": {},
   "source": [
    "#### The equations that we need to solve are the following:\n",
    "\n",
    "1. \n",
    "$$ E^{HF}_{2} = E^{HF}_{CBS} - Be^{-2A}$$  \n",
    "\n",
    "\n",
    "2. \n",
    "$$ E^{HF}_{3} = E^{HF}_{CBS} - B e^{-3A}$$  \n",
    "\n",
    "\n",
    "3. \n",
    "$$ E^{HF}_{4} = E^{HF}_{CBS} - B e^{-4A}$$  \n",
    "\n",
    "With these equations, we have the required number of equations needed to obtain the 3 parameters. "
   ]
  },
  {
   "cell_type": "code",
   "execution_count": 186,
   "metadata": {},
   "outputs": [],
   "source": [
    "from scipy.optimize import fsolve\n",
    "\n",
    "#The energies for the different basis sets are:\n",
    "\n",
    "#2 -> -198.685732\n",
    "#3 -> -198.752236\n",
    "#4 -> -198.768517"
   ]
  },
  {
   "cell_type": "code",
   "execution_count": 220,
   "metadata": {
    "scrolled": true
   },
   "outputs": [
    {
     "name": "stdout",
     "output_type": "stream",
     "text": [
      "The E_(CBS) for F2 using HF energies is -198.77379487992843\n",
      "The E_(CBS) for F using HF energies is -99.4168581903152\n"
     ]
    }
   ],
   "source": [
    "def equations(var):\n",
    "    a,b,cbs = var\n",
    "    \n",
    "    f1 = -198.685732 - cbs - b*np.exp(-2*a)\n",
    "    f2 = -198.752236 - cbs - b*np.exp(-3*a)\n",
    "    f3 = -198.768517 - cbs - b*np.exp(-4*a)\n",
    "    \n",
    "    return (f1,f2,f3)\n",
    "\n",
    "a,b,cbs = fsolve(equations, [1,1,-200])\n",
    "\n",
    "print(f\"The E_(CBS) for F2 using HF energies is {cbs}\")\n",
    "\n",
    "def equations(var):\n",
    "    a,b,cbs = var\n",
    "    \n",
    "    f1 = -99.375250 - cbs - b*np.exp(-2*a)\n",
    "    f2 = -99.405519 - cbs - b*np.exp(-3*a)\n",
    "    f3 = -99.413768 - cbs - b*np.exp(-4*a)\n",
    "    \n",
    "    return (f1,f2,f3)\n",
    "\n",
    "a,b,cbs = fsolve(equations, [1,1,-100])\n",
    "\n",
    "print(f\"The E_(CBS) for F using HF energies is {cbs}\")"
   ]
  },
  {
   "cell_type": "markdown",
   "metadata": {},
   "source": [
    "---"
   ]
  },
  {
   "cell_type": "markdown",
   "metadata": {},
   "source": [
    "### **2.** \n",
    "\n",
    "Estimate the MP2 and CCSD(T) correlation energy basis set limits (i.e., E(MP2)-E(HF) and E(CCSD(T))-E(HF)) by the following formula:\n",
    "\n",
    "$$E_x^{corr} = E_{CBS}^{corr} + CX^{-3}$$\n",
    "\n",
    "Where:  \n",
    "**C** is a coefficient we required to find.  \n",
    "**$Ex$** and **$E_{CBS}$** are the correlation energies in the cc-pvxz basis and CBS limit.  \n",
    "\n",
    "This is two-point scheme, you need two basis sets to obtain CBS energies. Calculate Mp2 and CCSD(T) CBS *correlation* energies using 1) X=2,3 and 2) X= 3,4 \n"
   ]
  },
  {
   "cell_type": "code",
   "execution_count": null,
   "metadata": {},
   "outputs": [],
   "source": [
    "#RESPONSE\n",
    "\n",
    "#The correlation energies for F2 with MP2 and CCSD(T) are:\n",
    "\n",
    "#MP2\n",
    "#2->-199.083476 - (-198.685732)\n",
    "#3->-199.299175 - (-198.685732)\n",
    "#4->-199.399696 - (-198.768517)\n",
    "\n",
    "#CCSD(T)\n",
    "#2-> -199.101016 -(-198.685732)\n",
    "#3-> -199.320398 -(-198.685732)\n",
    "#4-> -199.421927 -(-198.768517)"
   ]
  },
  {
   "cell_type": "code",
   "execution_count": 232,
   "metadata": {},
   "outputs": [
    {
     "name": "stdout",
     "output_type": "stream",
     "text": [
      "MP2(2,3) correlation energy for F is -0.24096989473684896\n",
      "MP2(3,4) correlation energy for F is -0.281613081081062\n",
      "MP2(2,3) correlation energy for F_2 is -0.7042636315789372\n",
      "MP2(3,4) correlation energy for F_2 is -0.6441214864864994\n"
     ]
    }
   ],
   "source": [
    "#RESPONSE\n",
    "\n",
    "#MP2(2,3)\n",
    "\n",
    "def equations(var):\n",
    "    c, corr = var\n",
    "    f1 = -0.14250800000000652 - corr + c*2**(-3)\n",
    "    f2 = -0.21179600000000676 - corr + c*3**(-3)\n",
    "    return (f1, f2)\n",
    "\n",
    "c, corr = fsolve(equations, [1,-1])\n",
    "\n",
    "print(f\"MP2(2,3) correlation energy for F is {corr}\")\n",
    "\n",
    "def equations(var):\n",
    "    c, corr = var\n",
    "    f1 = -0.21179600000000676 - corr + c*3**(-3)\n",
    "    f2 = -0.2521589999999918 - corr + c*4**(-3)\n",
    "    return (f1, f2)\n",
    "\n",
    "c, corr = fsolve(equations, [1,-1])\n",
    "\n",
    "print(f\"MP2(3,4) correlation energy for F is {corr}\")\n",
    "\n",
    "\n",
    "def equations(var):\n",
    "    c, corr = var\n",
    "    f1 = -0.3977439999999888 - corr + c*2**(-3)\n",
    "    f2 = -0.6134429999999895 - corr + c*3**(-3)\n",
    "    return (f1, f2)\n",
    "\n",
    "c, corr = fsolve(equations, [1,-1])\n",
    "\n",
    "print(f\"MP2(2,3) correlation energy for F_2 is {corr}\")\n",
    "\n",
    "def equations(var):\n",
    "    c, corr = var\n",
    "    f1 = -0.6134429999999895 - corr + c*3**(-3)\n",
    "    f2 = -0.6311790000000030 - corr + c*4**(-3)\n",
    "    return (f1, f2)\n",
    "\n",
    "c, corr = fsolve(equations, [1,-1])\n",
    "\n",
    "print(f\"MP2(3,4) correlation energy for F_2 is {corr}\")"
   ]
  },
  {
   "cell_type": "code",
   "execution_count": 231,
   "metadata": {},
   "outputs": [
    {
     "name": "stdout",
     "output_type": "stream",
     "text": [
      "CCSD(T)(2,3) correlation energy for F is -0.2571764210526287\n",
      "CCSD(T)(3,4) correlation energy for F is -0.29784043243241426\n",
      "CCSD(T)(2,3) correlation energy for F2 is -0.7270373684210728\n",
      "CCSD(T)(3,4) correlation energy for F2 is -0.6670880540540607\n"
     ]
    }
   ],
   "source": [
    "#RESPONSE\n",
    "\n",
    "#MP2(2,3)\n",
    "\n",
    "def equations(var):\n",
    "    c, corr = var\n",
    "    f1 = -0.15406200000001036 - corr + c*2**(-3)\n",
    "    f2 = -0.22662400000000105 - corr + c*3**(-3)\n",
    "    return (f1, f2)\n",
    "\n",
    "c, corr = fsolve(equations, [1,-1])\n",
    "\n",
    "print(f\"CCSD(T)(2,3) correlation energy for F is {corr}\")\n",
    "\n",
    "def equations(var):\n",
    "    c, corr = var\n",
    "    f1 = -0.22662400000000105 - corr + c*3**(-3)\n",
    "    f2 = -0.26779599999998993 - corr + c*4**(-3)\n",
    "    return (f1, f2)\n",
    "\n",
    "c, corr = fsolve(equations, [1,-1])\n",
    "\n",
    "print(f\"CCSD(T)(3,4) correlation energy for F is {corr}\")\n",
    "\n",
    "\n",
    "def equations(var):\n",
    "    c, corr = var\n",
    "    f1 = -0.41528399999998555 - corr + c*2**(-3)\n",
    "    f2 = -0.6346660000000099 - corr + c*3**(-3)\n",
    "    return (f1, f2)\n",
    "\n",
    "c, corr = fsolve(equations, [1,-1])\n",
    "\n",
    "print(f\"CCSD(T)(2,3) correlation energy for F2 is {corr}\")\n",
    "\n",
    "def equations(var):\n",
    "    c, corr = var\n",
    "    f1 = -0.6346660000000099 - corr + c*3**(-3)\n",
    "    f2 = -0.653410000000008 - corr + c*4**(-3)\n",
    "    return (f1, f2)\n",
    "\n",
    "c, corr = fsolve(equations, [1,-1])\n",
    "\n",
    "print(f\"CCSD(T)(3,4) correlation energy for F2 is {corr}\")"
   ]
  },
  {
   "cell_type": "markdown",
   "metadata": {},
   "source": [
    "---"
   ]
  },
  {
   "cell_type": "markdown",
   "metadata": {},
   "source": [
    "### **2.1** \n",
    "\n",
    "Calculate the MP2 and CCSD(T) total energy CBS limits, which are sums of the HF CBS energies and the correlation CBS energies. Note that you will have two different values of the CBS energies. Refer them as CBS(2,3) and CBSD(3,4). That is, in this step you calculate:\n",
    "\n",
    "MP2/CBS(2,3)  \n",
    "MP2/CBS(3,4)  \n",
    "CCSD(T)/CBS(2,3)  \n",
    "CCSD(T)/CBS(3,4) \n",
    "\n",
    "Energies of **$F_2$** and **$F$**"
   ]
  },
  {
   "cell_type": "markdown",
   "metadata": {},
   "source": [
    "#### If you created your dictionary with basis sets and energies. You can use it again here to add the previous results in a new keys \"CBS(2,3)\" and CBS(3,4). "
   ]
  },
  {
   "cell_type": "code",
   "execution_count": 236,
   "metadata": {
    "scrolled": true
   },
   "outputs": [
    {
     "data": {
      "text/plain": [
       "{'cc-pvdz': {'HF': -99.37525020985241,\n",
       "  'MP2': -99.51775797024081,\n",
       "  'CCSD(T)': -99.52931249546907,\n",
       "  'basis': 14},\n",
       " 'cc-pvtz': {'HF': -99.40551931539102,\n",
       "  'MP2': -99.61731492045097,\n",
       "  'CCSD(T)': -99.63214306410504,\n",
       "  'basis': 30},\n",
       " 'cc-pvqz': {'HF': -99.41376829608419,\n",
       "  'MP2': -99.66592682522803,\n",
       "  'CCSD(T)': -99.68156437361009,\n",
       "  'basis': 55}}"
      ]
     },
     "execution_count": 236,
     "metadata": {},
     "output_type": "execute_result"
    }
   ],
   "source": [
    "f_energies"
   ]
  },
  {
   "cell_type": "code",
   "execution_count": 250,
   "metadata": {},
   "outputs": [],
   "source": [
    "cbs_23 = {\"CBS(2,3)\": {\"MP2\":-198.77379487992843 + -0.7042636315789372, \n",
    "                       \"CCSD(T)\" : -198.77379487992843 + -0.7270373684210728}}\n",
    "\n",
    "cbs_34 = {\"CBS(3,4)\": {\"MP2\":-198.77379487992843 + -0.6441214864864994, \n",
    "                       \"CCSD(T)\" : -198.77379487992843 + -0.6670880540540607}}\n",
    "\n",
    "mol_energies.update(cbs_23)\n",
    "mol_energies.update(cbs_34)"
   ]
  },
  {
   "cell_type": "code",
   "execution_count": 261,
   "metadata": {
    "scrolled": true
   },
   "outputs": [
    {
     "name": "stdout",
     "output_type": "stream",
     "text": [
      "\n",
      " F energies\n"
     ]
    },
    {
     "data": {
      "text/html": [
       "<div>\n",
       "<style scoped>\n",
       "    .dataframe tbody tr th:only-of-type {\n",
       "        vertical-align: middle;\n",
       "    }\n",
       "\n",
       "    .dataframe tbody tr th {\n",
       "        vertical-align: top;\n",
       "    }\n",
       "\n",
       "    .dataframe thead th {\n",
       "        text-align: right;\n",
       "    }\n",
       "</style>\n",
       "<table border=\"1\" class=\"dataframe\">\n",
       "  <thead>\n",
       "    <tr style=\"text-align: right;\">\n",
       "      <th></th>\n",
       "      <th>cc-pvdz</th>\n",
       "      <th>cc-pvtz</th>\n",
       "      <th>cc-pvqz</th>\n",
       "      <th>CBS(2,3)</th>\n",
       "      <th>CBS(3,4)</th>\n",
       "    </tr>\n",
       "  </thead>\n",
       "  <tbody>\n",
       "    <tr>\n",
       "      <th>CCSD(T)</th>\n",
       "      <td>-199.101016</td>\n",
       "      <td>-199.320398</td>\n",
       "      <td>-199.421927</td>\n",
       "      <td>-199.500832</td>\n",
       "      <td>-199.440883</td>\n",
       "    </tr>\n",
       "    <tr>\n",
       "      <th>HF</th>\n",
       "      <td>-198.685732</td>\n",
       "      <td>-198.752236</td>\n",
       "      <td>-198.768517</td>\n",
       "      <td>NaN</td>\n",
       "      <td>NaN</td>\n",
       "    </tr>\n",
       "    <tr>\n",
       "      <th>MP2</th>\n",
       "      <td>-199.083476</td>\n",
       "      <td>-199.299175</td>\n",
       "      <td>-199.399696</td>\n",
       "      <td>-199.478059</td>\n",
       "      <td>-199.417916</td>\n",
       "    </tr>\n",
       "    <tr>\n",
       "      <th>basis</th>\n",
       "      <td>28.000000</td>\n",
       "      <td>60.000000</td>\n",
       "      <td>110.000000</td>\n",
       "      <td>NaN</td>\n",
       "      <td>NaN</td>\n",
       "    </tr>\n",
       "  </tbody>\n",
       "</table>\n",
       "</div>"
      ],
      "text/plain": [
       "            cc-pvdz     cc-pvtz     cc-pvqz    CBS(2,3)    CBS(3,4)\n",
       "CCSD(T) -199.101016 -199.320398 -199.421927 -199.500832 -199.440883\n",
       "HF      -198.685732 -198.752236 -198.768517         NaN         NaN\n",
       "MP2     -199.083476 -199.299175 -199.399696 -199.478059 -199.417916\n",
       "basis     28.000000   60.000000  110.000000         NaN         NaN"
      ]
     },
     "execution_count": 261,
     "metadata": {},
     "output_type": "execute_result"
    }
   ],
   "source": [
    "print(\"\\n F energies\")\n",
    "pd_mol = pd.DataFrame(mol_energies)\n",
    "pd_mol"
   ]
  },
  {
   "cell_type": "code",
   "execution_count": 252,
   "metadata": {},
   "outputs": [],
   "source": [
    "cbs_23 = {\"CBS(2,3)\": {\"MP2\":-99.4168581903152 + -0.24096989473684896, \n",
    "                       \"CCSD(T)\" : -99.4168581903152 + -0.2571764210526287}}\n",
    "\n",
    "cbs_34 = {\"CBS(3,4)\": {\"MP2\":-99.4168581903152 + -0.281613081081062, \n",
    "                       \"CCSD(T)\" : -99.4168581903152 + -0.29784043243241426}}\n",
    "\n",
    "f_energies.update(cbs_23)\n",
    "f_energies.update(cbs_34)"
   ]
  },
  {
   "cell_type": "code",
   "execution_count": 263,
   "metadata": {
    "scrolled": false
   },
   "outputs": [
    {
     "name": "stdout",
     "output_type": "stream",
     "text": [
      "\n",
      " F2 energies\n"
     ]
    },
    {
     "data": {
      "text/html": [
       "<div>\n",
       "<style scoped>\n",
       "    .dataframe tbody tr th:only-of-type {\n",
       "        vertical-align: middle;\n",
       "    }\n",
       "\n",
       "    .dataframe tbody tr th {\n",
       "        vertical-align: top;\n",
       "    }\n",
       "\n",
       "    .dataframe thead th {\n",
       "        text-align: right;\n",
       "    }\n",
       "</style>\n",
       "<table border=\"1\" class=\"dataframe\">\n",
       "  <thead>\n",
       "    <tr style=\"text-align: right;\">\n",
       "      <th></th>\n",
       "      <th>cc-pvdz</th>\n",
       "      <th>cc-pvtz</th>\n",
       "      <th>cc-pvqz</th>\n",
       "      <th>CBS(2,3)</th>\n",
       "      <th>CBS(3,4)</th>\n",
       "    </tr>\n",
       "  </thead>\n",
       "  <tbody>\n",
       "    <tr>\n",
       "      <th>CCSD(T)</th>\n",
       "      <td>-99.529312</td>\n",
       "      <td>-99.632143</td>\n",
       "      <td>-99.681564</td>\n",
       "      <td>-99.674035</td>\n",
       "      <td>-99.714699</td>\n",
       "    </tr>\n",
       "    <tr>\n",
       "      <th>HF</th>\n",
       "      <td>-99.375250</td>\n",
       "      <td>-99.405519</td>\n",
       "      <td>-99.413768</td>\n",
       "      <td>NaN</td>\n",
       "      <td>NaN</td>\n",
       "    </tr>\n",
       "    <tr>\n",
       "      <th>MP2</th>\n",
       "      <td>-99.517758</td>\n",
       "      <td>-99.617315</td>\n",
       "      <td>-99.665927</td>\n",
       "      <td>-99.657828</td>\n",
       "      <td>-99.698471</td>\n",
       "    </tr>\n",
       "    <tr>\n",
       "      <th>basis</th>\n",
       "      <td>14.000000</td>\n",
       "      <td>30.000000</td>\n",
       "      <td>55.000000</td>\n",
       "      <td>NaN</td>\n",
       "      <td>NaN</td>\n",
       "    </tr>\n",
       "  </tbody>\n",
       "</table>\n",
       "</div>"
      ],
      "text/plain": [
       "           cc-pvdz    cc-pvtz    cc-pvqz   CBS(2,3)   CBS(3,4)\n",
       "CCSD(T) -99.529312 -99.632143 -99.681564 -99.674035 -99.714699\n",
       "HF      -99.375250 -99.405519 -99.413768        NaN        NaN\n",
       "MP2     -99.517758 -99.617315 -99.665927 -99.657828 -99.698471\n",
       "basis    14.000000  30.000000  55.000000        NaN        NaN"
      ]
     },
     "execution_count": 263,
     "metadata": {},
     "output_type": "execute_result"
    }
   ],
   "source": [
    "print(\"\\n F2 energies\")\n",
    "pd_f = pd.DataFrame(f_energies)\n",
    "pd_f"
   ]
  },
  {
   "cell_type": "markdown",
   "metadata": {},
   "source": [
    "---"
   ]
  },
  {
   "cell_type": "markdown",
   "metadata": {},
   "source": [
    "### **3** \n",
    "\n",
    "Calculate the bond dissociation energies:\n",
    "\n",
    "$$ E_{diss} = E(F_2) - 2E(F) $$\n",
    "\n",
    "By HF, MP2 and CCSD(T) in different basis sets."
   ]
  },
  {
   "cell_type": "markdown",
   "metadata": {},
   "source": [
    "#### Hint: If you have been following the Notebook with Pandas. This step should be effortless. Just substract the molecular dataframe minus two times the atom data frame. \n"
   ]
  },
  {
   "cell_type": "code",
   "execution_count": 299,
   "metadata": {
    "scrolled": true
   },
   "outputs": [
    {
     "name": "stdout",
     "output_type": "stream",
     "text": [
      "\n",
      " Bond Dissociation Energies\n"
     ]
    },
    {
     "data": {
      "text/html": [
       "<div>\n",
       "<style scoped>\n",
       "    .dataframe tbody tr th:only-of-type {\n",
       "        vertical-align: middle;\n",
       "    }\n",
       "\n",
       "    .dataframe tbody tr th {\n",
       "        vertical-align: top;\n",
       "    }\n",
       "\n",
       "    .dataframe thead th {\n",
       "        text-align: right;\n",
       "    }\n",
       "</style>\n",
       "<table border=\"1\" class=\"dataframe\">\n",
       "  <thead>\n",
       "    <tr style=\"text-align: right;\">\n",
       "      <th></th>\n",
       "      <th>cc-pvdz</th>\n",
       "      <th>cc-pvtz</th>\n",
       "      <th>cc-pvqz</th>\n",
       "      <th>CBS(2,3)</th>\n",
       "      <th>CBS(3,4)</th>\n",
       "    </tr>\n",
       "  </thead>\n",
       "  <tbody>\n",
       "    <tr>\n",
       "      <th>CCSD(T)</th>\n",
       "      <td>-26.600990</td>\n",
       "      <td>-35.210797</td>\n",
       "      <td>-36.896510</td>\n",
       "      <td>-95.860173</td>\n",
       "      <td>-7.207373</td>\n",
       "    </tr>\n",
       "    <tr>\n",
       "      <th>HF</th>\n",
       "      <td>40.642497</td>\n",
       "      <td>36.898960</td>\n",
       "      <td>37.035057</td>\n",
       "      <td>37.035057</td>\n",
       "      <td>37.035057</td>\n",
       "    </tr>\n",
       "    <tr>\n",
       "      <th>MP2</th>\n",
       "      <td>-30.095535</td>\n",
       "      <td>-40.502722</td>\n",
       "      <td>-42.571563</td>\n",
       "      <td>-101.908931</td>\n",
       "      <td>-13.161263</td>\n",
       "    </tr>\n",
       "    <tr>\n",
       "      <th>basis</th>\n",
       "      <td>28.000000</td>\n",
       "      <td>60.000000</td>\n",
       "      <td>110.000000</td>\n",
       "      <td>60.000000</td>\n",
       "      <td>110.000000</td>\n",
       "    </tr>\n",
       "  </tbody>\n",
       "</table>\n",
       "</div>"
      ],
      "text/plain": [
       "           cc-pvdz    cc-pvtz     cc-pvqz    CBS(2,3)    CBS(3,4)\n",
       "CCSD(T) -26.600990 -35.210797  -36.896510  -95.860173   -7.207373\n",
       "HF       40.642497  36.898960   37.035057   37.035057   37.035057\n",
       "MP2     -30.095535 -40.502722  -42.571563 -101.908931  -13.161263\n",
       "basis    28.000000  60.000000  110.000000   60.000000  110.000000"
      ]
     },
     "execution_count": 299,
     "metadata": {},
     "output_type": "execute_result"
    }
   ],
   "source": [
    "print(\"\\n Bond Dissociation Energies\")\n",
    "\n",
    "BDE = (pd_mol - 2*pd_f) * 627.509\n",
    "BDE[\"cc-pvdz\"][\"basis\"] = 28\n",
    "BDE[\"cc-pvtz\"][\"basis\"] = 60\n",
    "BDE[\"cc-pvqz\"][\"basis\"] = 110\n",
    "BDE[\"CBS(2,3)\"][\"basis\"] = 60\n",
    "BDE[\"CBS(3,4)\"][\"basis\"] = 110\n",
    "\n",
    "BDE[\"CBS(2,3)\"][\"HF\"] = 37.035057\n",
    "BDE[\"CBS(3,4)\"][\"HF\"] = 37.035057\n",
    "\n",
    "\n",
    "\n",
    "\n",
    "BDE"
   ]
  },
  {
   "cell_type": "markdown",
   "metadata": {},
   "source": [
    "---"
   ]
  },
  {
   "cell_type": "markdown",
   "metadata": {},
   "source": [
    "### **3.1** \n",
    "\n",
    "Plot HF, MP2, and CCSD(T) bond dissociation energies vs the size of the basis set including CBS values. Find an experimental value of BDE in $F_2$ And add the experimental BDE to the plot and compare it with the calculated BDEs. \n",
    "\n",
    "#### Attention: When comparing experimental values and computational BDEs, you need to account for ZPE energy. You may either shift experimental BDE energy by computed ZPE or include ZPE in all computational values of BDEs"
   ]
  },
  {
   "cell_type": "code",
   "execution_count": 321,
   "metadata": {},
   "outputs": [
    {
     "data": {
      "text/plain": [
       "Index(['cc-pvdz', 'cc-pvtz', 'cc-pvqz', 'CBS(2,3)', 'CBS(3,4)'], dtype='object')"
      ]
     },
     "execution_count": 321,
     "metadata": {},
     "output_type": "execute_result"
    }
   ],
   "source": [
    "BDE.columns"
   ]
  },
  {
   "cell_type": "code",
   "execution_count": 323,
   "metadata": {},
   "outputs": [
    {
     "data": {
      "text/plain": [
       "<matplotlib.legend.Legend at 0x7f960facdfd0>"
      ]
     },
     "execution_count": 323,
     "metadata": {},
     "output_type": "execute_result"
    },
    {
     "data": {
      "image/png": "[encoded data removed]",
      "text/plain": [
       "<Figure size 432x288 with 1 Axes>"
      ]
     },
     "metadata": {
      "needs_background": "light"
     },
     "output_type": "display_data"
    }
   ],
   "source": [
    "plt.scatter(BDE.iloc[3,:].to_list(), BDE.iloc[1,:].to_list(), label=\"HF\")\n",
    "plt.scatter(BDE.iloc[3,:].to_list(), BDE.iloc[0,:].to_list(), label=\"CCSD(T)\")\n",
    "plt.scatter(BDE.iloc[3,:].to_list(), BDE.iloc[2,:].to_list(), label=\"MP2\")\n",
    "\n",
    "\n",
    "plt.ylabel(\"BDE\")\n",
    "plt.xlabel(\"Number of Basis Functions\")\n",
    "\n",
    "plt.legend()"
   ]
  },
  {
   "cell_type": "code",
   "execution_count": null,
   "metadata": {},
   "outputs": [],
   "source": []
  }
 ],
 "metadata": {
  "kernelspec": {
   "display_name": "Python 3",
   "language": "python",
   "name": "python3"
  },
  "language_info": {
   "codemirror_mode": {
    "name": "ipython",
    "version": 3
   },
   "file_extension": ".py",
   "mimetype": "text/x-python",
   "name": "python",
   "nbconvert_exporter": "python",
   "pygments_lexer": "ipython3",
   "version": "3.7.3"
  },
  "varInspector": {
   "cols": {
    "lenName": 16,
    "lenType": 16,
    "lenVar": 40
   },
   "kernels_config": {
    "python": {
     "delete_cmd_postfix": "",
     "delete_cmd_prefix": "del ",
     "library": "var_list.py",
     "varRefreshCmd": "print(var_dic_list())"
    },
    "r": {
     "delete_cmd_postfix": ") ",
     "delete_cmd_prefix": "rm(",
     "library": "var_list.r",
     "varRefreshCmd": "cat(var_dic_list()) "
    }
   },
   "types_to_exclude": [
    "module",
    "function",
    "builtin_function_or_method",
    "instance",
    "_Feature"
   ],
   "window_display": false
  }
 },
 "nbformat": 4,
 "nbformat_minor": 2
}
