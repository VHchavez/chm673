{
 "cells": [
  {
   "cell_type": "markdown",
   "metadata": {},
   "source": [
    "## Lab 3. Extrapolation techniques for accurate thermochemistry"
   ]
  },
  {
   "cell_type": "markdown",
   "metadata": {},
   "source": [
    "\n",
    "\n",
    "In this lab you will:\n",
    "\n",
    "## Part A\n",
    "\n",
    "- Calculate the bond dissociation energy (BDE) in the $F_2$ molecule with a large basis set and accurate correlated method (CCSD(T))\n",
    "\n",
    "- Perform basis set extrapolation using an exponential or power series extrapolation to accunt for finite basis set effects (intrinsec basis set insufficientcy (IBSI)). \n",
    "\n",
    "- How to use the correlation energy additivity scheme.\n",
    "\n",
    "## Part B\n",
    "\n",
    "- When trying to compute the interaction energy between dimer complexes, each monomer can technically \"borrow\" (Or in Prof. David Sherrill's words, \"steal\") the basis functions from the other monomer. This causes an artificial stabilization of the dimer complex, and hence interaction energies are overestimated in most cases. In order to circumvent this, you will:\n",
    "\n",
    "- Compute the energy of the monomers in the dimer basis. In this extra step, the first monomer is simulated in the presence of \"ghost\" atoms of the second monomer (basis functions exist, but electrons are absent), and same for the second monomer. This is called the \"Counterpoise\" correction formulated by Boys and Bernardi. Psi4 computes the process with a keyword bsse_type='cp'. \n"
   ]
  },
  {
   "cell_type": "code",
   "execution_count": null,
   "metadata": {},
   "outputs": [],
   "source": []
  }
 ],
 "metadata": {
  "kernelspec": {
   "display_name": "Python 3",
   "language": "python",
   "name": "python3"
  },
  "language_info": {
   "codemirror_mode": {
    "name": "ipython",
    "version": 3
   },
   "file_extension": ".py",
   "mimetype": "text/x-python",
   "name": "python",
   "nbconvert_exporter": "python",
   "pygments_lexer": "ipython3",
   "version": "3.7.3"
  }
 },
 "nbformat": 4,
 "nbformat_minor": 2
}
