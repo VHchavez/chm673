{
 "cells": [
  {
   "cell_type": "markdown",
   "metadata": {},
   "source": [
    "## Lab 2. Bond-breaking in $H_2$"
   ]
  },
  {
   "cell_type": "markdown",
   "metadata": {},
   "source": [
    "In this lab, you will:\n",
    "* Investigate the bond-breaking reaction in $H_2$ molecule.\n",
    "* Compare the performance of restricted and unrestricted Hartree-Fock, and Density Functional Theory for bond breaking.\n",
    "* Benchmark these results with respect to the Full Configuration Interaction (FCI) values obtained using the coupled cluster with single and double excitations (CCSD) calculations, which give the exact answer for the two-electron system. \n",
    "* Calculate the correlation energy.\n",
    "* Distinguish from dynamic and static correlation\n",
    "\n",
    "Authors: Lyudmila Slipchenko (lslipchenko@purdue.edu; ORCID: 0000-0002-0445-2990) and Victor H. Chavez (gonza445@purdue.edu; ORCID: 0000-0003-3765-2961), \n"
   ]
  },
  {
   "cell_type": "markdown",
   "metadata": {},
   "source": [
    "***"
   ]
  },
  {
   "cell_type": "code",
   "execution_count": 1,
   "metadata": {},
   "outputs": [],
   "source": [
    "#Import modules\n",
    "\n",
    "import psi4\n",
    "\n",
    "import numpy as np\n",
    "import pandas as pd\n",
    "import matplotlib.pyplot as plt\n"
   ]
  },
  {
   "cell_type": "markdown",
   "metadata": {},
   "source": [
    "***"
   ]
  },
  {
   "cell_type": "markdown",
   "metadata": {},
   "source": [
    "## Procedure\n",
    "\n",
    "Use *6-31G*** basis for all the calculations in this lab.\n",
    "\n",
    "We want to construct the $H_2$ potential energy surface. (For a molecule with one degree of freedom this is just a curve).\n",
    "You need to run a series of calculations ad different H-H separations (in Angstroms) e.g:\n",
    "\n",
    "0.3, 0.4, 0.5, ... ,4.9, 5.0\n",
    "\n",
    "#### 1. Calculate the potential energy sufrace at the *RHF* level (This is the default calculation in Psi4). Store the electronic energies at all calculated points. \n",
    "\n",
    "**Hint** : We can take advantage of the fact that the psi4.geometry takes a string. And in python, we are able to easily replace a segment of a string. Look at the following example:\n"
   ]
  },
  {
   "cell_type": "code",
   "execution_count": 2,
   "metadata": {
    "scrolled": true
   },
   "outputs": [
    {
     "name": "stdout",
     "output_type": "stream",
     "text": [
      "\n",
      "H 0.0 0.0 0.0\n",
      "H 0.0 0.0 0.0 \n",
      "\n",
      "units angstrom\n",
      "\n",
      "\n",
      "He 0.0 0.0 0.0\n",
      "H 0.0 0.0 0.0 \n",
      "\n",
      "units angstrom\n",
      "\n",
      "\n",
      "Li 0.0 0.0 0.0\n",
      "H 0.0 0.0 0.0 \n",
      "\n",
      "units angstrom\n",
      "\n"
     ]
    }
   ],
   "source": [
    "#Remember that you can store your results in a list or dictionary\n",
    "\n",
    "#Define string with psi4.geometry syntax. \n",
    "#Identify what you want to change and use a particular label that you know that won't get repeated. \n",
    "molecule = \"\"\"\n",
    "**atom1** 0.0 0.0 0.0\n",
    "H 0.0 0.0 0.0 \n",
    "\n",
    "units angstrom\n",
    "\"\"\"\n",
    "\n",
    "#Create a list with the things that you want to go through. \n",
    "atoms = [ \"H\", \"He\", \"Li\" ]\n",
    "\n",
    "#Cycle through them. \n",
    "for atom in atoms:\n",
    "    print(molecule.replace(\"**atom1**\", atom))\n",
    "    \n",
    "    \n",
    "#Define all of the distances:\n",
    "distances = np.linspace(0.3, 5.0, 30)"
   ]
  },
  {
   "cell_type": "code",
   "execution_count": 4,
   "metadata": {},
   "outputs": [],
   "source": [
    "#RESPONSE:\n",
    "\n",
    "binding = \"\"\"\n",
    "H 0.0 0.0 0.0 \n",
    "H 0.0 0.0 **R**\n",
    "\n",
    "units angstrom\n",
    "symmetry c1\n",
    "\"\"\"\n",
    "\n",
    "RHF = []\n",
    "\n",
    "psi4.core.clean()\n",
    "psi4.set_options({'reference' : 'rhf'})\n",
    "\n",
    "for r in distances:\n",
    "    mol = psi4.geometry(binding.replace(\"**R**\", str(r)))\n",
    "    energy = psi4.energy(\"HF/6-31G**\", molecule=mol)\n",
    "    RHF.append(energy)"
   ]
  },
  {
   "cell_type": "markdown",
   "metadata": {},
   "source": [
    "#### 2. Calculate the same potential energy surface at the UHF level. \n",
    "\n",
    "You can recycle the previous code that you just wrote. Just remember to change the name of your variables. \n",
    "\n",
    "We need to tell Psi4 that we want an UHF calculation. This is done by setting the global option \"reference\" as \"UHF\" as in the next cell. The argument of the function is a dictionary. Mind the notation.\n",
    "\n",
    "\n"
   ]
  },
  {
   "cell_type": "code",
   "execution_count": 16,
   "metadata": {},
   "outputs": [],
   "source": [
    "psi4.core.clean()\n",
    "psi4.set_options({'reference' : 'uhf', \n",
    "                  'guess_mix' : True, \n",
    "                  'guess' : \"gwh\"})\n"
   ]
  },
  {
   "cell_type": "code",
   "execution_count": 17,
   "metadata": {},
   "outputs": [],
   "source": [
    "#RESPONSE\n",
    "\n",
    "UHF = []\n",
    "\n",
    "for r in distances:\n",
    "    mol = psi4.geometry(binding.replace(\"**R**\", str(r)))\n",
    "    energy = psi4.energy(\"HF/6-31G**\", molecule=mol)\n",
    "    UHF.append(energy)"
   ]
  },
  {
   "cell_type": "markdown",
   "metadata": {},
   "source": [
    "#### 3. Calculate the same potential energy surface at the DFT level. Use the PBE functional and a restricted wavefunction.  "
   ]
  },
  {
   "cell_type": "code",
   "execution_count": 8,
   "metadata": {},
   "outputs": [],
   "source": [
    "#RESPONSE\n",
    "\n",
    "psi4.core.clean()\n",
    "psi4.set_options({'reference' : 'RKS'})\n",
    "\n",
    "DFT = []\n",
    "\n",
    "for r in distances:\n",
    "    mol = psi4.geometry(binding.replace(\"**R**\", str(r)))\n",
    "    energy = psi4.energy(\"PBE/6-31G**\", molecule=mol)\n",
    "    DFT.append(energy)"
   ]
  },
  {
   "cell_type": "markdown",
   "metadata": {},
   "source": [
    "#### 4. Calculate the same potential energy surface at the FCI level. For a two-electron system, the FCI results may be obtained by using the CCSD method (details on this technique will come in due at a time). \n",
    "\n",
    "* You will need to save the output file for the next question. Remember that you can get access to it with ```psi4.core.set_output_file(\"filename.txt\")```\n",
    " "
   ]
  },
  {
   "cell_type": "code",
   "execution_count": 19,
   "metadata": {},
   "outputs": [],
   "source": [
    "#RESPONSE\n",
    "\n",
    "psi4.core.clean()\n",
    "psi4.core.set_output_file(\"ccsd_t_output.txt\")\n",
    "psi4.set_options({\"reference\":\"UHF\"})\n",
    "\n",
    "CCSD = []\n",
    "\n",
    "for r in distances:\n",
    "    mol = psi4.geometry(binding.replace(\"**R**\", str(r)))\n",
    "    energy = psi4.energy(\"CCSD/6-31G**\", molecule=mol)\n",
    "    CCSD.append(energy)"
   ]
  },
  {
   "cell_type": "markdown",
   "metadata": {},
   "source": [
    "Also, record total CCSD ampltitudes: CCSD $T_1^2$ and $T_2^2$, and the value of the largest $T_2$ amplitude. \n",
    "\n",
    "The values of amplitudes show a relative weight of singly and doubly excited determinants in the wavefunction. If $T_1$ and/or $T_2$ are large(generally speaking, if $T_2>0.1$), the wavefunction is considered to be multi-configurational (i.e., containing several important Slater determinants). In other words, this is a region where non-dynamic (static) correlation is significant. Several small $T_1$ and $T_2$ amplitudes tell about (almost always present) dynamic correlation."
   ]
  },
  {
   "cell_type": "markdown",
   "metadata": {},
   "source": [
    "#Response\n",
    "\n",
    "**For ground state geometry:**\n",
    "    \n",
    "Largest TIA Amplitudes:\n",
    "          0   0         0.0092943745 \n",
    "          0   1         0.0039157527 \n",
    "\n",
    "Largest Tia Amplitudes:\n",
    "          0   0         0.0092943745 \n",
    "          0   1         0.0039157527 \n",
    "          \n",
    "**For separated atoms:**\n",
    "\n",
    "Largest TIA Amplitudes:\n",
    "          0   0         0.0840520015 \n",
    "          0   1        -0.0012362405 \n",
    "\n",
    "Largest Tia Amplitudes:\n",
    "          0   0         0.0840520015 \n",
    "          0   1        -0.0012362405\n",
    " \n",
    "\n",
    "\n",
    "\n",
    "    "
   ]
  },
  {
   "cell_type": "markdown",
   "metadata": {},
   "source": [
    "#### 5. Calculate the energy of a single H atom (change the multiplicity value correspondingly) with HF and DFT methods in the same basis set. Explain what will be the energy in HF and FCi methods. Proceed to use the energy to calculate the binding energy in $H_2$:\n",
    "\n",
    "$$ E_{bind} = E(H_2) - 2E(H)  $$"
   ]
  },
  {
   "cell_type": "code",
   "execution_count": 10,
   "metadata": {},
   "outputs": [
    {
     "name": "stdout",
     "output_type": "stream",
     "text": [
      "HF Energy:   -0.49823291072907006\n",
      "DFT Energy:  -0.49743231367499213\n",
      "CCSD Energy: -0.4982329107290702\n"
     ]
    }
   ],
   "source": [
    "# RESPONSE\n",
    "\n",
    "psi4.set_options({\"reference\":\"uhf\"})\n",
    "\n",
    "h = psi4.geometry(\"\"\"\n",
    "0 2\n",
    "H\n",
    "symmetry c1\n",
    "\"\"\")\n",
    "\n",
    "hf_energy = psi4.energy(\"HF/6-31G**\", molecule=h)\n",
    "dft_energy = psi4.energy(\"PBE/6-31G**\", molecule=h)\n",
    "ccsd_energy = psi4.energy(\"CCSD/6-31G**\", molecule=h)\n",
    "\n",
    "print(F\"HF Energy:   {hf_energy}\")\n",
    "print(F\"DFT Energy:  {dft_energy}\")\n",
    "print(F\"CCSD Energy: {ccsd_energy}\")"
   ]
  },
  {
   "cell_type": "markdown",
   "metadata": {},
   "source": [
    "Since we only have one electron. We can exactly express the energy of a hydrogen atom with a single slater determinant. THus, HF and CCSD produce the same energy. "
   ]
  },
  {
   "cell_type": "markdown",
   "metadata": {},
   "source": [
    "#### 6. Plot on the same graph the RHF, DFT and FCI binding energies in $H_2$ versus the separation distance. Use kcal/mol energy units (1 Hartree = 627.5 kcal/mol)"
   ]
  },
  {
   "cell_type": "code",
   "execution_count": 18,
   "metadata": {},
   "outputs": [
    {
     "data": {
      "text/plain": [
       "<matplotlib.legend.Legend at 0x7f839541b9b0>"
      ]
     },
     "execution_count": 18,
     "metadata": {},
     "output_type": "execute_result"
    },
    {
     "data": {
      "image/png": "[encoded data removed]",
      "text/plain": [
       "<Figure size 720x432 with 1 Axes>"
      ]
     },
     "metadata": {
      "needs_background": "light"
     },
     "output_type": "display_data"
    }
   ],
   "source": [
    "#RESPONSE\n",
    "\n",
    "be_rhf   = (np.array(RHF)  - 2*(-0.49823291072907))* 627.51\n",
    "be_uhf   = (np.array(UHF) -  2*(-0.49823291072907))* 627.51\n",
    "be_dft  = (np.array(DFT)  - 2*(-0.49743231367957))* 627.51\n",
    "be_ccsd = (np.array(CCSD) - 2*(-0.49823291072907))* 627.51\n",
    "\n",
    "fig = plt.figure(figsize=(10,6))\n",
    "\n",
    "plt.title(\"Binding Energies\")\n",
    "plt.xlabel(\"Bond Separation\")\n",
    "plt.ylabel(\"Binding Energy\")\n",
    "\n",
    "\n",
    "plt.plot(distances, be_uhf,   label=\"UHF\",     lw=5)\n",
    "plt.plot(distances, be_rhf,   label=\"RHF\",     lw=5, ls=\":\")\n",
    "plt.plot(distances, be_dft,  label=\"DFT/PBE\", lw=5)\n",
    "plt.plot(distances, be_ccsd, label=\"CCSD\",    lw=5)\n",
    "\n",
    "\n",
    "plt.legend()"
   ]
  },
  {
   "cell_type": "markdown",
   "metadata": {},
   "source": [
    "#### 7. Comment on the behaviour of RHF with respect to FCI at short (around 0.7 Angstroms) and long distances. If you want more information, you can read paragraph 3.8.7 from Szabo and Ostlund book for a discussion of RHF and UHF solutions. "
   ]
  },
  {
   "cell_type": "code",
   "execution_count": 18,
   "metadata": {},
   "outputs": [],
   "source": [
    "#RESPONSE"
   ]
  },
  {
   "cell_type": "markdown",
   "metadata": {},
   "source": [
    "#### 8. Plot the first two $H_2$ moleccular orbitals from your HF and FCI calculations at equillibrium , 1.3 and 5.0 Angstroms. Comment on qualitative changes in the shape of the orbitals."
   ]
  },
  {
   "cell_type": "code",
   "execution_count": 19,
   "metadata": {},
   "outputs": [],
   "source": [
    "#RESPONSE"
   ]
  },
  {
   "cell_type": "markdown",
   "metadata": {},
   "source": [
    "#### 9. Difference between FCI and HF energies is the correlation energy. What is the nature of the correlation energy (dynamic vs non-dynamic) in $H_2$ at equillibrium and long distances? at what distance the non-dynamic correlation become imoprtant?"
   ]
  },
  {
   "cell_type": "code",
   "execution_count": 20,
   "metadata": {},
   "outputs": [],
   "source": [
    "#RESPONSE"
   ]
  },
  {
   "cell_type": "markdown",
   "metadata": {},
   "source": [
    "#### 10. Comment on the behaviour of DFT at equilibrium and long distances. What is the reason of DFT failure for bond-breaking. "
   ]
  },
  {
   "cell_type": "code",
   "execution_count": 21,
   "metadata": {},
   "outputs": [],
   "source": [
    "#RESPONSE"
   ]
  },
  {
   "cell_type": "markdown",
   "metadata": {},
   "source": [
    "#### Bonus question. Try computing the energy of a Hydrogen atom with the hybrid B3LYP functional. Compare the energy of the atom computed with HF, B3LYP and the exact energy. Do you see any discrepancy with B3LYP? If so, what is/are the reasons for such discrepancies?"
   ]
  },
  {
   "cell_type": "code",
   "execution_count": 22,
   "metadata": {},
   "outputs": [],
   "source": [
    "#RESPONSE"
   ]
  },
  {
   "cell_type": "markdown",
   "metadata": {},
   "source": [
    "***"
   ]
  },
  {
   "cell_type": "markdown",
   "metadata": {},
   "source": [
    "## Part B"
   ]
  },
  {
   "cell_type": "markdown",
   "metadata": {},
   "source": [
    "Your friend, who is an experimental chemist, seeks your help knowing that you have expertise in running quantum chemistry simulations. Their research group has measurd the singlet-triplet gap of ozone recently. They want to see if computational simulations can support their measurement. How will you measure the singlet-triplet gap in ozone?"
   ]
  },
  {
   "cell_type": "markdown",
   "metadata": {},
   "source": [
    "Use the ideas from the previous part of this lab and the follwoing hints:\n",
    "    \n",
    "\n",
    "   1. Assume that the singlet and triplet ozone molecules have the same geometry. \n",
    "   2. You will have to optimize the geometry of ozone to start with. Alternately, you can grab the optimized geometry of $O_3$ from CCCBDB. \n",
    "   3. Use RHF/6-31G* for simulating the singlet ozone molecule. Use UHF/6-31G* for simulating the triplet ozone molecule. Use the energy difference to compute the gap. \n",
    "   4. Write the electronic energies corresponding to singlet and triplet ozone molecules. the singlet-triplet gap in eV, and the $<S^2>$ value for triplet ozone.\n",
    "    \n",
    "   \n",
    "    "
   ]
  },
  {
   "cell_type": "code",
   "execution_count": 23,
   "metadata": {},
   "outputs": [],
   "source": [
    "#Response"
   ]
  },
  {
   "cell_type": "markdown",
   "metadata": {},
   "source": [
    "Now, compute the singlet-triplet gap (between the $^1\\Delta_g$ and $^3\\Sigma_g ^-$ states) of oxygen molecule and report it in eV. Compare the singlet-triplet gap you computed in this lab with the ones availiable in CCBDB. Is it an exact match (http://cccbdb.nist.gov/stgap1.asp)?\n",
    "\n",
    "\n",
    "<img src=\"./ozone.png\">"
   ]
  },
  {
   "cell_type": "markdown",
   "metadata": {},
   "source": [
    "Of all the four cases you have computed so far, which one suffers the most spin contamination?"
   ]
  },
  {
   "cell_type": "code",
   "execution_count": null,
   "metadata": {},
   "outputs": [],
   "source": [
    "#Response"
   ]
  },
  {
   "cell_type": "markdown",
   "metadata": {},
   "source": [
    "Bonus. Compute the singlet-triplet gap between $^1\\Sigma_g ^+$ and $^3\\Sigma_g ^-$ states of oxygen atom.  \n",
    "\n",
    "**Hint**: Start with $^1 \\Delta_g$ geometry. Use the maximum overlap method (MOM) to force the highest beta electron to occupy the second $\\pi^*$ ortibal.  \n",
    "\n",
    "For example: http://www.q-chem.com/qchem-website/manual/qchem50_manual/sect-mom.html)"
   ]
  },
  {
   "cell_type": "code",
   "execution_count": null,
   "metadata": {},
   "outputs": [],
   "source": [
    "#Response"
   ]
  }
 ],
 "metadata": {
  "kernelspec": {
   "display_name": "Python 3",
   "language": "python",
   "name": "python3"
  },
  "language_info": {
   "codemirror_mode": {
    "name": "ipython",
    "version": 3
   },
   "file_extension": ".py",
   "mimetype": "text/x-python",
   "name": "python",
   "nbconvert_exporter": "python",
   "pygments_lexer": "ipython3",
   "version": "3.7.3"
  },
  "varInspector": {
   "cols": {
    "lenName": 16,
    "lenType": 16,
    "lenVar": 40
   },
   "kernels_config": {
    "python": {
     "delete_cmd_postfix": "",
     "delete_cmd_prefix": "del ",
     "library": "var_list.py",
     "varRefreshCmd": "print(var_dic_list())"
    },
    "r": {
     "delete_cmd_postfix": ") ",
     "delete_cmd_prefix": "rm(",
     "library": "var_list.r",
     "varRefreshCmd": "cat(var_dic_list()) "
    }
   },
   "types_to_exclude": [
    "module",
    "function",
    "builtin_function_or_method",
    "instance",
    "_Feature"
   ],
   "window_display": false
  }
 },
 "nbformat": 4,
 "nbformat_minor": 2
}
